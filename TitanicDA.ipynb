{
 "cells": [
  {
   "cell_type": "markdown",
   "metadata": {},
   "source": [
    "# Titanic Data Analysis"
   ]
  },
  {
   "cell_type": "markdown",
   "metadata": {},
   "source": [
    "## Given:"
   ]
  },
  {
   "cell_type": "markdown",
   "metadata": {},
   "source": [
    "<b>Background Information:</b>\n",
    "(source: <i>https://www.kaggle.com/c/titanic</i>)\n",
    "\n",
    "The sinking of the RMS Titanic is one of the most infamous shipwrecks in history.  On April 15, 1912, during her maiden voyage, the Titanic sank after colliding with an iceberg, killing 1502 out of 2224 passengers and crew. This sensational tragedy shocked the international community and led to better safety regulations for ships.\n",
    "\n",
    "One of the reasons that the shipwreck led to such loss of life was that there were not enough lifeboats for the passengers and crew. Although there was some element of luck involved in surviving the sinking, some groups of people were more likely to survive than others, such as women, children, and the upper-class.\n"
   ]
  },
  {
   "cell_type": "markdown",
   "metadata": {},
   "source": [
    "\n",
    "\n",
    "<b>Data Description </b>(source: <i>https://www.kaggle.com/c/titanic</i>)<br/>\n",
    "The data contains demographics and passenger information from <u>891</u> of the 2224 passengers and crew on board the Titanic. \n",
    "<ul>\n",
    "<li>survival : Survival (0 = No; 1 = Yes)</li>\n",
    "<li>pclass   : Passenger ticket class (1 = 1st; 2 = 2nd; 3 = 3rd))</li>\n",
    "<li>name     : Name</li>\n",
    "<li>sex      : Sex</li>\n",
    "<li>age      : Age in years</li>\n",
    "<li>sibsp    : # of siblings / spouses aboard the Titanic</li>\n",
    "<li>parch    : # of parents / children aboard the Titanic</li>\n",
    "<li>ticket   : Ticket Number</li>\n",
    "<li>fare     : Passenger Fare</li>\n",
    "<li>cabin    : Cabin number</li>\n",
    "<li>embarked : Port of Embarkation (C = Cherbourg; Q = Queenstown; S = Southampton))</li>\n",
    "</ul>\n",
    "\n",
    "<i>Special Notes:</i>\n",
    "<ul>\n",
    "<li>Pclass is a proxy for socio-economic status (SES) 1st is Upper, 2nd is Middle and 3rd is Lower</li>\n",
    "<li>Age is in Years; fractional if the age is less than one. If the age is estimated, it is in the form xx.5</li>\n",
    "<li>With respect to the family relation variables (sibsp and parch) some relations were ignored.</li> \n",
    "</ul>\n",
    "\n",
    "The following are the definitions used for sibsp:\n",
    "<ul>\n",
    "<li>Sibling: Brother, Sister, Stepbrother, or Stepsister of Passenger Aboard Titanic</li>\n",
    "<li>Spouse: Husband or Wife of Passenger Aboard Titanic (Mistresses and Fiances Ignored)</li>\n",
    "</ul>\n",
    "The following are the definitions used for parch:\n",
    "<ul>\n",
    "<li>Parent: Mother or Father of Passenger Aboard Titanic</li>\n",
    "<li>Child: Son, Daughter, Stepson, or Stepdaughter of Passenger Aboard Titanic</li>\n",
    "</ul>\n",
    "\n",
    "Some children travelled only with a nanny, therefore parch=0 for them.\n",
    "\n",
    "<b> What is excluded or not considered?</b>\n",
    "<body>Data excludes relations like in-laws, aunts/uncles, cousins, nephews/nieces, friends, neighbors\n",
    "</body>"
   ]
  },
  {
   "cell_type": "markdown",
   "metadata": {},
   "source": [
    "## <b> Aim: Analyze the titanic data set from Kaggle and report observations </b>\n"
   ]
  },
  {
   "cell_type": "markdown",
   "metadata": {},
   "source": [
    "<b>Questions:</b>\n",
    "<ol type=\"1\">\n",
    "<li>Did gender determine chances of survival?</li>\n",
    "<li>Was social-economic status a factor for survival?</li>\n",
    "\n"
   ]
  },
  {
   "cell_type": "markdown",
   "metadata": {},
   "source": [
    "Importing libraries to help the data analysis"
   ]
  },
  {
   "cell_type": "code",
   "execution_count": 3,
   "metadata": {},
   "outputs": [
    {
     "name": "stdout",
     "output_type": "stream",
     "text": [
      "\n"
     ]
    }
   ],
   "source": [
    "import pandas as pd\n",
    "import numpy as np\n",
    "import matplotlib.pyplot as plt\n",
    "import seaborn as sns\n",
    "%matplotlib inline"
   ]
  },
  {
   "cell_type": "markdown",
   "metadata": {},
   "source": [
    "Importing the data to be explored"
   ]
  },
  {
   "cell_type": "code",
   "execution_count": 4,
   "metadata": {
    "collapsed": true
   },
   "outputs": [],
   "source": [
    "filename = 'titanicData.csv'\n",
    "explore_data = pd.read_csv(filename)\n"
   ]
  },
  {
   "cell_type": "markdown",
   "metadata": {},
   "source": [
    "## <b>Step 1: </b> Lets explore the data"
   ]
  },
  {
   "cell_type": "markdown",
   "metadata": {},
   "source": [
    "Lets see what data types do we have in our data"
   ]
  },
  {
   "cell_type": "code",
   "execution_count": 5,
   "metadata": {},
   "outputs": [
    {
     "data": {
      "text/plain": [
       "PassengerId      int64\n",
       "Survived         int64\n",
       "Pclass           int64\n",
       "Name            object\n",
       "Sex             object\n",
       "Age            float64\n",
       "SibSp            int64\n",
       "Parch            int64\n",
       "Ticket          object\n",
       "Fare           float64\n",
       "Cabin           object\n",
       "Embarked        object\n",
       "dtype: object"
      ]
     },
     "execution_count": 5,
     "metadata": {},
     "output_type": "execute_result"
    }
   ],
   "source": [
    "explore_data.dtypes"
   ]
  },
  {
   "cell_type": "markdown",
   "metadata": {},
   "source": [
    "We have numerical as well as categorical types of variables in our data:\n",
    "<ul>\n",
    "<li><b>Numerical:</b> Age, SibSp, Parch, Fare </li>\n",
    "<li><b>Categorical:</b> Pclass, Sex and Embarked </li>\n",
    "</ul>"
   ]
  },
  {
   "cell_type": "markdown",
   "metadata": {},
   "source": [
    "Observe first five rows in the data"
   ]
  },
  {
   "cell_type": "code",
   "execution_count": 6,
   "metadata": {},
   "outputs": [
    {
     "data": {
      "text/html": [
       "<div>\n",
       "<table border=\"1\" class=\"dataframe\">\n",
       "  <thead>\n",
       "    <tr style=\"text-align: right;\">\n",
       "      <th></th>\n",
       "      <th>PassengerId</th>\n",
       "      <th>Survived</th>\n",
       "      <th>Pclass</th>\n",
       "      <th>Name</th>\n",
       "      <th>Sex</th>\n",
       "      <th>Age</th>\n",
       "      <th>SibSp</th>\n",
       "      <th>Parch</th>\n",
       "      <th>Ticket</th>\n",
       "      <th>Fare</th>\n",
       "      <th>Cabin</th>\n",
       "      <th>Embarked</th>\n",
       "    </tr>\n",
       "  </thead>\n",
       "  <tbody>\n",
       "    <tr>\n",
       "      <th>0</th>\n",
       "      <td>1</td>\n",
       "      <td>0</td>\n",
       "      <td>3</td>\n",
       "      <td>Braund, Mr. Owen Harris</td>\n",
       "      <td>male</td>\n",
       "      <td>22.0</td>\n",
       "      <td>1</td>\n",
       "      <td>0</td>\n",
       "      <td>A/5 21171</td>\n",
       "      <td>7.2500</td>\n",
       "      <td>NaN</td>\n",
       "      <td>S</td>\n",
       "    </tr>\n",
       "    <tr>\n",
       "      <th>1</th>\n",
       "      <td>2</td>\n",
       "      <td>1</td>\n",
       "      <td>1</td>\n",
       "      <td>Cumings, Mrs. John Bradley (Florence Briggs Th...</td>\n",
       "      <td>female</td>\n",
       "      <td>38.0</td>\n",
       "      <td>1</td>\n",
       "      <td>0</td>\n",
       "      <td>PC 17599</td>\n",
       "      <td>71.2833</td>\n",
       "      <td>C85</td>\n",
       "      <td>C</td>\n",
       "    </tr>\n",
       "    <tr>\n",
       "      <th>2</th>\n",
       "      <td>3</td>\n",
       "      <td>1</td>\n",
       "      <td>3</td>\n",
       "      <td>Heikkinen, Miss. Laina</td>\n",
       "      <td>female</td>\n",
       "      <td>26.0</td>\n",
       "      <td>0</td>\n",
       "      <td>0</td>\n",
       "      <td>STON/O2. 3101282</td>\n",
       "      <td>7.9250</td>\n",
       "      <td>NaN</td>\n",
       "      <td>S</td>\n",
       "    </tr>\n",
       "    <tr>\n",
       "      <th>3</th>\n",
       "      <td>4</td>\n",
       "      <td>1</td>\n",
       "      <td>1</td>\n",
       "      <td>Futrelle, Mrs. Jacques Heath (Lily May Peel)</td>\n",
       "      <td>female</td>\n",
       "      <td>35.0</td>\n",
       "      <td>1</td>\n",
       "      <td>0</td>\n",
       "      <td>113803</td>\n",
       "      <td>53.1000</td>\n",
       "      <td>C123</td>\n",
       "      <td>S</td>\n",
       "    </tr>\n",
       "    <tr>\n",
       "      <th>4</th>\n",
       "      <td>5</td>\n",
       "      <td>0</td>\n",
       "      <td>3</td>\n",
       "      <td>Allen, Mr. William Henry</td>\n",
       "      <td>male</td>\n",
       "      <td>35.0</td>\n",
       "      <td>0</td>\n",
       "      <td>0</td>\n",
       "      <td>373450</td>\n",
       "      <td>8.0500</td>\n",
       "      <td>NaN</td>\n",
       "      <td>S</td>\n",
       "    </tr>\n",
       "  </tbody>\n",
       "</table>\n",
       "</div>"
      ],
      "text/plain": [
       "   PassengerId  Survived  Pclass  \\\n",
       "0            1         0       3   \n",
       "1            2         1       1   \n",
       "2            3         1       3   \n",
       "3            4         1       1   \n",
       "4            5         0       3   \n",
       "\n",
       "                                                Name     Sex   Age  SibSp  \\\n",
       "0                            Braund, Mr. Owen Harris    male  22.0      1   \n",
       "1  Cumings, Mrs. John Bradley (Florence Briggs Th...  female  38.0      1   \n",
       "2                             Heikkinen, Miss. Laina  female  26.0      0   \n",
       "3       Futrelle, Mrs. Jacques Heath (Lily May Peel)  female  35.0      1   \n",
       "4                           Allen, Mr. William Henry    male  35.0      0   \n",
       "\n",
       "   Parch            Ticket     Fare Cabin Embarked  \n",
       "0      0         A/5 21171   7.2500   NaN        S  \n",
       "1      0          PC 17599  71.2833   C85        C  \n",
       "2      0  STON/O2. 3101282   7.9250   NaN        S  \n",
       "3      0            113803  53.1000  C123        S  \n",
       "4      0            373450   8.0500   NaN        S  "
      ]
     },
     "execution_count": 6,
     "metadata": {},
     "output_type": "execute_result"
    }
   ],
   "source": [
    "explore_data.head()"
   ]
  },
  {
   "cell_type": "markdown",
   "metadata": {},
   "source": [
    "<b>Obs:</b> Some of the cabin data has missing values; Some of the Name column data includes additional information"
   ]
  },
  {
   "cell_type": "markdown",
   "metadata": {},
   "source": [
    "Observe last five rows in the data"
   ]
  },
  {
   "cell_type": "code",
   "execution_count": 7,
   "metadata": {},
   "outputs": [
    {
     "data": {
      "text/html": [
       "<div>\n",
       "<table border=\"1\" class=\"dataframe\">\n",
       "  <thead>\n",
       "    <tr style=\"text-align: right;\">\n",
       "      <th></th>\n",
       "      <th>PassengerId</th>\n",
       "      <th>Survived</th>\n",
       "      <th>Pclass</th>\n",
       "      <th>Name</th>\n",
       "      <th>Sex</th>\n",
       "      <th>Age</th>\n",
       "      <th>SibSp</th>\n",
       "      <th>Parch</th>\n",
       "      <th>Ticket</th>\n",
       "      <th>Fare</th>\n",
       "      <th>Cabin</th>\n",
       "      <th>Embarked</th>\n",
       "    </tr>\n",
       "  </thead>\n",
       "  <tbody>\n",
       "    <tr>\n",
       "      <th>886</th>\n",
       "      <td>887</td>\n",
       "      <td>0</td>\n",
       "      <td>2</td>\n",
       "      <td>Montvila, Rev. Juozas</td>\n",
       "      <td>male</td>\n",
       "      <td>27.0</td>\n",
       "      <td>0</td>\n",
       "      <td>0</td>\n",
       "      <td>211536</td>\n",
       "      <td>13.00</td>\n",
       "      <td>NaN</td>\n",
       "      <td>S</td>\n",
       "    </tr>\n",
       "    <tr>\n",
       "      <th>887</th>\n",
       "      <td>888</td>\n",
       "      <td>1</td>\n",
       "      <td>1</td>\n",
       "      <td>Graham, Miss. Margaret Edith</td>\n",
       "      <td>female</td>\n",
       "      <td>19.0</td>\n",
       "      <td>0</td>\n",
       "      <td>0</td>\n",
       "      <td>112053</td>\n",
       "      <td>30.00</td>\n",
       "      <td>B42</td>\n",
       "      <td>S</td>\n",
       "    </tr>\n",
       "    <tr>\n",
       "      <th>888</th>\n",
       "      <td>889</td>\n",
       "      <td>0</td>\n",
       "      <td>3</td>\n",
       "      <td>Johnston, Miss. Catherine Helen \"Carrie\"</td>\n",
       "      <td>female</td>\n",
       "      <td>NaN</td>\n",
       "      <td>1</td>\n",
       "      <td>2</td>\n",
       "      <td>W./C. 6607</td>\n",
       "      <td>23.45</td>\n",
       "      <td>NaN</td>\n",
       "      <td>S</td>\n",
       "    </tr>\n",
       "    <tr>\n",
       "      <th>889</th>\n",
       "      <td>890</td>\n",
       "      <td>1</td>\n",
       "      <td>1</td>\n",
       "      <td>Behr, Mr. Karl Howell</td>\n",
       "      <td>male</td>\n",
       "      <td>26.0</td>\n",
       "      <td>0</td>\n",
       "      <td>0</td>\n",
       "      <td>111369</td>\n",
       "      <td>30.00</td>\n",
       "      <td>C148</td>\n",
       "      <td>C</td>\n",
       "    </tr>\n",
       "    <tr>\n",
       "      <th>890</th>\n",
       "      <td>891</td>\n",
       "      <td>0</td>\n",
       "      <td>3</td>\n",
       "      <td>Dooley, Mr. Patrick</td>\n",
       "      <td>male</td>\n",
       "      <td>32.0</td>\n",
       "      <td>0</td>\n",
       "      <td>0</td>\n",
       "      <td>370376</td>\n",
       "      <td>7.75</td>\n",
       "      <td>NaN</td>\n",
       "      <td>Q</td>\n",
       "    </tr>\n",
       "  </tbody>\n",
       "</table>\n",
       "</div>"
      ],
      "text/plain": [
       "     PassengerId  Survived  Pclass                                      Name  \\\n",
       "886          887         0       2                     Montvila, Rev. Juozas   \n",
       "887          888         1       1              Graham, Miss. Margaret Edith   \n",
       "888          889         0       3  Johnston, Miss. Catherine Helen \"Carrie\"   \n",
       "889          890         1       1                     Behr, Mr. Karl Howell   \n",
       "890          891         0       3                       Dooley, Mr. Patrick   \n",
       "\n",
       "        Sex   Age  SibSp  Parch      Ticket   Fare Cabin Embarked  \n",
       "886    male  27.0      0      0      211536  13.00   NaN        S  \n",
       "887  female  19.0      0      0      112053  30.00   B42        S  \n",
       "888  female   NaN      1      2  W./C. 6607  23.45   NaN        S  \n",
       "889    male  26.0      0      0      111369  30.00  C148        C  \n",
       "890    male  32.0      0      0      370376   7.75   NaN        Q  "
      ]
     },
     "execution_count": 7,
     "metadata": {},
     "output_type": "execute_result"
    }
   ],
   "source": [
    "explore_data.tail()"
   ]
  },
  {
   "cell_type": "markdown",
   "metadata": {},
   "source": [
    "<b>Obs:</b> Age and Cabin columns have missing values; Cabin and Ticket columns have alphanumeric values"
   ]
  },
  {
   "cell_type": "markdown",
   "metadata": {},
   "source": [
    "lets take a high level look of the data\n"
   ]
  },
  {
   "cell_type": "code",
   "execution_count": 8,
   "metadata": {},
   "outputs": [
    {
     "data": {
      "text/html": [
       "<div>\n",
       "<table border=\"1\" class=\"dataframe\">\n",
       "  <thead>\n",
       "    <tr style=\"text-align: right;\">\n",
       "      <th></th>\n",
       "      <th>PassengerId</th>\n",
       "      <th>Survived</th>\n",
       "      <th>Pclass</th>\n",
       "      <th>Age</th>\n",
       "      <th>SibSp</th>\n",
       "      <th>Parch</th>\n",
       "      <th>Fare</th>\n",
       "    </tr>\n",
       "  </thead>\n",
       "  <tbody>\n",
       "    <tr>\n",
       "      <th>count</th>\n",
       "      <td>891.000000</td>\n",
       "      <td>891.000000</td>\n",
       "      <td>891.000000</td>\n",
       "      <td>714.000000</td>\n",
       "      <td>891.000000</td>\n",
       "      <td>891.000000</td>\n",
       "      <td>891.000000</td>\n",
       "    </tr>\n",
       "    <tr>\n",
       "      <th>mean</th>\n",
       "      <td>446.000000</td>\n",
       "      <td>0.383838</td>\n",
       "      <td>2.308642</td>\n",
       "      <td>29.699118</td>\n",
       "      <td>0.523008</td>\n",
       "      <td>0.381594</td>\n",
       "      <td>32.204208</td>\n",
       "    </tr>\n",
       "    <tr>\n",
       "      <th>std</th>\n",
       "      <td>257.353842</td>\n",
       "      <td>0.486592</td>\n",
       "      <td>0.836071</td>\n",
       "      <td>14.526497</td>\n",
       "      <td>1.102743</td>\n",
       "      <td>0.806057</td>\n",
       "      <td>49.693429</td>\n",
       "    </tr>\n",
       "    <tr>\n",
       "      <th>min</th>\n",
       "      <td>1.000000</td>\n",
       "      <td>0.000000</td>\n",
       "      <td>1.000000</td>\n",
       "      <td>0.420000</td>\n",
       "      <td>0.000000</td>\n",
       "      <td>0.000000</td>\n",
       "      <td>0.000000</td>\n",
       "    </tr>\n",
       "    <tr>\n",
       "      <th>25%</th>\n",
       "      <td>223.500000</td>\n",
       "      <td>0.000000</td>\n",
       "      <td>2.000000</td>\n",
       "      <td>20.125000</td>\n",
       "      <td>0.000000</td>\n",
       "      <td>0.000000</td>\n",
       "      <td>7.910400</td>\n",
       "    </tr>\n",
       "    <tr>\n",
       "      <th>50%</th>\n",
       "      <td>446.000000</td>\n",
       "      <td>0.000000</td>\n",
       "      <td>3.000000</td>\n",
       "      <td>28.000000</td>\n",
       "      <td>0.000000</td>\n",
       "      <td>0.000000</td>\n",
       "      <td>14.454200</td>\n",
       "    </tr>\n",
       "    <tr>\n",
       "      <th>75%</th>\n",
       "      <td>668.500000</td>\n",
       "      <td>1.000000</td>\n",
       "      <td>3.000000</td>\n",
       "      <td>38.000000</td>\n",
       "      <td>1.000000</td>\n",
       "      <td>0.000000</td>\n",
       "      <td>31.000000</td>\n",
       "    </tr>\n",
       "    <tr>\n",
       "      <th>max</th>\n",
       "      <td>891.000000</td>\n",
       "      <td>1.000000</td>\n",
       "      <td>3.000000</td>\n",
       "      <td>80.000000</td>\n",
       "      <td>8.000000</td>\n",
       "      <td>6.000000</td>\n",
       "      <td>512.329200</td>\n",
       "    </tr>\n",
       "  </tbody>\n",
       "</table>\n",
       "</div>"
      ],
      "text/plain": [
       "       PassengerId    Survived      Pclass         Age       SibSp  \\\n",
       "count   891.000000  891.000000  891.000000  714.000000  891.000000   \n",
       "mean    446.000000    0.383838    2.308642   29.699118    0.523008   \n",
       "std     257.353842    0.486592    0.836071   14.526497    1.102743   \n",
       "min       1.000000    0.000000    1.000000    0.420000    0.000000   \n",
       "25%     223.500000    0.000000    2.000000   20.125000    0.000000   \n",
       "50%     446.000000    0.000000    3.000000   28.000000    0.000000   \n",
       "75%     668.500000    1.000000    3.000000   38.000000    1.000000   \n",
       "max     891.000000    1.000000    3.000000   80.000000    8.000000   \n",
       "\n",
       "            Parch        Fare  \n",
       "count  891.000000  891.000000  \n",
       "mean     0.381594   32.204208  \n",
       "std      0.806057   49.693429  \n",
       "min      0.000000    0.000000  \n",
       "25%      0.000000    7.910400  \n",
       "50%      0.000000   14.454200  \n",
       "75%      0.000000   31.000000  \n",
       "max      6.000000  512.329200  "
      ]
     },
     "execution_count": 8,
     "metadata": {},
     "output_type": "execute_result"
    }
   ],
   "source": [
    "explore_data.describe()"
   ]
  },
  {
   "cell_type": "markdown",
   "metadata": {},
   "source": [
    "<b>Obs:</b>\n",
    "<ul>\n",
    "<li>It looks weird that the minimum is Age column is less than one. The data description mentions that age is fractional if its less than one, so there must be one or more babies (age less than one) on board the ship</li>\n",
    "<li>Age column has 714 rows compared to 891 in other columns</li>\n",
    "<li>75% of the passengers with age listed were under the age of 38, and the mean age overall was 29.7.\n",
    "</li>\n",
    "<li>38.3% of the passengers survived</li>\n",
    "<li>More than 50% of the passengers belong to Pclass 3 </li>\n",
    "<li>The minimum fare is 0, so it seems to indicate that there were some free tickets or maybe there was some error in the data. 512 seems too high a fare, it could be a possible outlier or another error.</li>\n",
    "</ul>"
   ]
  },
  {
   "cell_type": "markdown",
   "metadata": {},
   "source": [
    "<b>Additional Questions:</b> \n",
    "<ul>\n",
    "<li>What are the charecteristics of the missing age values? Will it be ok to drop them</li>\n",
    "<li>How many babies (less than one years old) are on the ship according to this dataset? How many of them survived?</li>\n",
    "\n",
    "</ul>\n",
    "\n"
   ]
  },
  {
   "cell_type": "markdown",
   "metadata": {},
   "source": [
    "'.describe' gives information on columns containings quantitative data, \n",
    "so using include = 'all' to see information regarding other columns"
   ]
  },
  {
   "cell_type": "code",
   "execution_count": 9,
   "metadata": {},
   "outputs": [
    {
     "data": {
      "text/html": [
       "<div>\n",
       "<table border=\"1\" class=\"dataframe\">\n",
       "  <thead>\n",
       "    <tr style=\"text-align: right;\">\n",
       "      <th></th>\n",
       "      <th>Cabin</th>\n",
       "      <th>Ticket</th>\n",
       "      <th>Embarked</th>\n",
       "    </tr>\n",
       "  </thead>\n",
       "  <tbody>\n",
       "    <tr>\n",
       "      <th>count</th>\n",
       "      <td>204</td>\n",
       "      <td>891</td>\n",
       "      <td>889</td>\n",
       "    </tr>\n",
       "    <tr>\n",
       "      <th>unique</th>\n",
       "      <td>147</td>\n",
       "      <td>681</td>\n",
       "      <td>3</td>\n",
       "    </tr>\n",
       "    <tr>\n",
       "      <th>top</th>\n",
       "      <td>C23 C25 C27</td>\n",
       "      <td>CA. 2343</td>\n",
       "      <td>S</td>\n",
       "    </tr>\n",
       "    <tr>\n",
       "      <th>freq</th>\n",
       "      <td>4</td>\n",
       "      <td>7</td>\n",
       "      <td>644</td>\n",
       "    </tr>\n",
       "  </tbody>\n",
       "</table>\n",
       "</div>"
      ],
      "text/plain": [
       "              Cabin    Ticket Embarked\n",
       "count           204       891      889\n",
       "unique          147       681        3\n",
       "top     C23 C25 C27  CA. 2343        S\n",
       "freq              4         7      644"
      ]
     },
     "execution_count": 9,
     "metadata": {},
     "output_type": "execute_result"
    }
   ],
   "source": [
    "explore_data[['Cabin','Ticket','Embarked']].describe(include = 'all')"
   ]
  },
  {
   "cell_type": "markdown",
   "metadata": {},
   "source": [
    "<b>Obs:</b> There are only 204 rows in the Cabin column and 2 data points seem to be missing in the embarked column as well"
   ]
  },
  {
   "cell_type": "markdown",
   "metadata": {},
   "source": [
    "## <b> Step 2: </b> Cleaning and organizing the data"
   ]
  },
  {
   "cell_type": "markdown",
   "metadata": {},
   "source": [
    "Check for duplicate entries\n",
    "since PassengerId should be unique to a passenger\n",
    "we should use that to check for duplicate values"
   ]
  },
  {
   "cell_type": "code",
   "execution_count": 10,
   "metadata": {},
   "outputs": [
    {
     "name": "stdout",
     "output_type": "stream",
     "text": [
      "The number of duplicated entries are 0\n"
     ]
    }
   ],
   "source": [
    "dups = explore_data['PassengerId'].duplicated().sum()\n",
    "print \"The number of duplicated entries are {}\".format(dups)"
   ]
  },
  {
   "cell_type": "markdown",
   "metadata": {},
   "source": [
    "Check for missing values.We already know from the describe function that Cabin, Age and Survived columns\n",
    "have missing values. We can ignore Cabin as the data in that column does not seem significant\n",
    "to our analysis. We can drop that column but we will need to fix missing values for Age and Embarked column\n"
   ]
  },
  {
   "cell_type": "code",
   "execution_count": 11,
   "metadata": {},
   "outputs": [
    {
     "data": {
      "text/plain": [
       "PassengerId      0\n",
       "Survived         0\n",
       "Pclass           0\n",
       "Name             0\n",
       "Sex              0\n",
       "Age            177\n",
       "SibSp            0\n",
       "Parch            0\n",
       "Ticket           0\n",
       "Fare             0\n",
       "Cabin          687\n",
       "Embarked         2\n",
       "dtype: int64"
      ]
     },
     "execution_count": 11,
     "metadata": {},
     "output_type": "execute_result"
    }
   ],
   "source": [
    "explore_data.isnull().sum()"
   ]
  },
  {
   "cell_type": "markdown",
   "metadata": {},
   "source": [
    "To fill the missing values we can either add median or mean.\n",
    "Median would make more sense as mean can be influenced by any outliers.\n",
    "Let us print the mean, median and then observe the distribution of 'Age' data.\n"
   ]
  },
  {
   "cell_type": "code",
   "execution_count": 62,
   "metadata": {},
   "outputs": [
    {
     "name": "stdout",
     "output_type": "stream",
     "text": [
      "Age mean: 29.36\n",
      "Age median: 28.0\n"
     ]
    },
    {
     "data": {
      "text/plain": [
       "<matplotlib.text.Text at 0x15a09518>"
      ]
     },
     "execution_count": 62,
     "metadata": {},
     "output_type": "execute_result"
    },
    {
     "data": {
      "text/plain": [
       "<matplotlib.figure.Figure at 0x15966a90>"
      ]
     },
     "metadata": {},
     "output_type": "display_data"
    },
    {
     "data": {
      "image/png": "[encoded data removed]",
      "text/plain": [
       "<matplotlib.figure.Figure at 0x15966748>"
      ]
     },
     "metadata": {},
     "output_type": "display_data"
    }
   ],
   "source": [
    "print 'Age mean:', round(explore_data.Age.mean(),2)\n",
    "print 'Age median:',explore_data.Age.median()\n",
    "\n",
    "fig =plt.figure()\n",
    "explore_data.hist(column = 'Age', bins= 40,figsize=(15,5))\n",
    "plt.xlabel('Age',fontsize = 15)\n",
    "plt.ylabel('Count of passengers', fontsize = 15)\n",
    "plt.title('Passengers by Age', fontsize = 25)\n"
   ]
  },
  {
   "cell_type": "markdown",
   "metadata": {},
   "source": [
    " Age mean > Age median and the data is skewed towards the right.\n",
    " Let's replace  the missing values with median\n"
   ]
  },
  {
   "cell_type": "code",
   "execution_count": 46,
   "metadata": {},
   "outputs": [
    {
     "data": {
      "text/plain": [
       "0"
      ]
     },
     "execution_count": 46,
     "metadata": {},
     "output_type": "execute_result"
    }
   ],
   "source": [
    "fd = explore_data # creating a seperate copy\n",
    "fd[\"Age\"] = fd[\"Age\"].fillna(fd[\"Age\"].median())\n",
    "fd[\"Age\"].isnull().sum() #missing Age values have been fixed\n"
   ]
  },
  {
   "cell_type": "markdown",
   "metadata": {},
   "source": [
    "Now lets look at embarked columm"
   ]
  },
  {
   "cell_type": "code",
   "execution_count": 47,
   "metadata": {},
   "outputs": [
    {
     "name": "stdout",
     "output_type": "stream",
     "text": [
      "S    644\n",
      "C    168\n",
      "Q     77\n",
      "Name: Embarked, dtype: int64\n"
     ]
    },
    {
     "data": {
      "text/plain": [
       "0"
      ]
     },
     "execution_count": 47,
     "metadata": {},
     "output_type": "execute_result"
    }
   ],
   "source": [
    "print fd.Embarked.value_counts() \n",
    "fd.Embarked.unique()\n",
    "#It looks like most of the people embarked at 'S', S counts >> C counts and S counta >>> Q counts.\n",
    "#Assigned 'S' to the missing numbers is unlikely to make a big difference to the whole data\n",
    "fill = fd.Embarked.value_counts().argmax()\n",
    "fd['Embarked'] = fd['Embarked'].fillna(fill)\n",
    "fd['Embarked'].isnull().sum() #missing Embarked values fixed\n"
   ]
  },
  {
   "cell_type": "markdown",
   "metadata": {},
   "source": [
    "To make Embarked column more readable we can change port values to original names\n"
   ]
  },
  {
   "cell_type": "code",
   "execution_count": 48,
   "metadata": {},
   "outputs": [
    {
     "data": {
      "text/plain": [
       "Southampton    646\n",
       "Cherbourg      168\n",
       "Queenstown      77\n",
       "Name: Embarked, dtype: int64"
      ]
     },
     "execution_count": 48,
     "metadata": {},
     "output_type": "execute_result"
    }
   ],
   "source": [
    "def get_port_name(port_name):\n",
    "    if port_name == \"S\":\n",
    "        return \"Southampton\"\n",
    "    elif port_name == \"C\":\n",
    "        return \"Cherbourg\"\n",
    "    elif port_name == \"Q\":\n",
    "        return \"Queenstown\"\n",
    "    else:\n",
    "        return port_name     \n",
    "\n",
    "fd[\"Embarked\"] = fd[\"Embarked\"].apply(get_port_name)\n",
    "fd[\"Embarked\"].value_counts()"
   ]
  },
  {
   "cell_type": "markdown",
   "metadata": {},
   "source": [
    "Renaming Pclass to make it more readable\n"
   ]
  },
  {
   "cell_type": "code",
   "execution_count": 49,
   "metadata": {},
   "outputs": [
    {
     "data": {
      "text/plain": [
       "array(['Lower', 'Upper', 'Middle'], dtype=object)"
      ]
     },
     "execution_count": 49,
     "metadata": {},
     "output_type": "execute_result"
    }
   ],
   "source": [
    "fd.loc[fd[\"Pclass\"] == 1, \"Pclass\"] = \"Upper\"\n",
    "fd.loc[fd[\"Pclass\"] == 2, \"Pclass\"] = \"Middle\"\n",
    "fd.loc[fd[\"Pclass\"] == 3, \"Pclass\"] = \"Lower\"\n",
    "fd.Pclass.unique()"
   ]
  },
  {
   "cell_type": "markdown",
   "metadata": {},
   "source": [
    "Renaming Survived column data to make it more readable\n"
   ]
  },
  {
   "cell_type": "code",
   "execution_count": 50,
   "metadata": {},
   "outputs": [
    {
     "data": {
      "text/plain": [
       "array(['No', 'Yes'], dtype=object)"
      ]
     },
     "execution_count": 50,
     "metadata": {},
     "output_type": "execute_result"
    }
   ],
   "source": [
    "fd.loc[fd[\"Survived\"] == 1, \"Survived\"] = \"Yes\"\n",
    "fd.loc[fd[\"Survived\"] == 0, \"Survived\"] = \"No\"\n",
    "fd.Survived.unique()"
   ]
  },
  {
   "cell_type": "markdown",
   "metadata": {},
   "source": [
    "## <b>Step 3:</b> Exploring data"
   ]
  },
  {
   "cell_type": "markdown",
   "metadata": {},
   "source": [
    "Functions to get passenger data and survivor data correseponding to a specific colum"
   ]
  },
  {
   "cell_type": "code",
   "execution_count": 51,
   "metadata": {
    "collapsed": true
   },
   "outputs": [],
   "source": [
    "def get_passengers(col):\n",
    "    passengers =  fd[col].value_counts()\n",
    "    return passengers\n",
    "\n",
    "def get_alive(col):\n",
    "    alive = fd[fd.Survived == 'Yes'].groupby(col).count()['Survived']\n",
    "    return alive\n"
   ]
  },
  {
   "cell_type": "markdown",
   "metadata": {},
   "source": [
    "<b> Q. At which port did maximum of the passengers get in? </b>"
   ]
  },
  {
   "cell_type": "markdown",
   "metadata": {},
   "source": [
    "Use get_passengers function to observe passengers data by port"
   ]
  },
  {
   "cell_type": "code",
   "execution_count": 61,
   "metadata": {},
   "outputs": [
    {
     "name": "stdout",
     "output_type": "stream",
     "text": [
      "Most of the passengers got in at Southampton\n"
     ]
    },
    {
     "data": {
      "image/png": "[encoded data removed]",
      "text/plain": [
       "<matplotlib.figure.Figure at 0x151c1cf8>"
      ]
     },
     "metadata": {},
     "output_type": "display_data"
    }
   ],
   "source": [
    "p_port = get_passengers('Embarked')\n",
    "fig =plt.figure()\n",
    "p_port.plot(kind = 'barh', figsize =(15,3))\n",
    "plt.xlabel('Count of passengers',  fontsize = 15)\n",
    "plt.ylabel('Ports', fontsize = 15)\n",
    "plt.title('Passengers by port', fontsize = 25)\n",
    "\n",
    "print \"Most of the passengers got in at {}\".format(p_port.argmax())\n",
    "# simple google search tells us that that the Titanic started from Southampton, England; \n",
    "# then went to Cherbourg and the last stop was Queenstown, Ireland before setting off for USA\n",
    "# Most of the passengers got in at the first stop - Southampton."
   ]
  },
  {
   "cell_type": "markdown",
   "metadata": {},
   "source": [
    "From the plot it is clear that most of the passengers were from Southampton (above 600) followed by Cherbourg (above 100) and lastly Queenstown (below 100)"
   ]
  },
  {
   "cell_type": "markdown",
   "metadata": {},
   "source": [
    "<b> Q. What is the distribution of passengers by class? </b>"
   ]
  },
  {
   "cell_type": "markdown",
   "metadata": {},
   "source": [
    "Use get_passengers function to get passengers data by class"
   ]
  },
  {
   "cell_type": "code",
   "execution_count": 65,
   "metadata": {},
   "outputs": [
    {
     "name": "stdout",
     "output_type": "stream",
     "text": [
      "Lower     491\n",
      "Upper     216\n",
      "Middle    184\n",
      "Name: Pclass, dtype: int64 \n",
      "\n",
      "Most of the passengers belong to Lower class\n",
      "Lower class passengers' count is more than the other two combined and\n",
      "there are more Upper class passengers than middle class passengers \n",
      "\n"
     ]
    },
    {
     "data": {
      "text/plain": [
       "<matplotlib.text.Text at 0x160f3be0>"
      ]
     },
     "execution_count": 65,
     "metadata": {},
     "output_type": "execute_result"
    },
    {
     "data": {
      "image/png": "[encoded data removed]",
      "text/plain": [
       "<matplotlib.figure.Figure at 0x16017828>"
      ]
     },
     "metadata": {},
     "output_type": "display_data"
    }
   ],
   "source": [
    "p_class = get_passengers('Pclass')\n",
    "print p_class, '\\n'\n",
    "\n",
    "print \"Most of the passengers belong to {} class\".format(p_class.argmax())\n",
    "\n",
    "comp = p_class.Lower > p_class.Middle + p_class.Upper\n",
    "\n",
    "if comp:\n",
    "    print \"Lower class passengers' count is more than the other two combined and\"\n",
    "if p_class.Middle < p_class.Upper:\n",
    "    print \"there are more Upper class passengers than middle class passengers \\n\"\n",
    "\n",
    "fig = plt.figure()\n",
    "p_class.plot(kind = 'barh', figsize =(15,3), title = 'Passengers by class')\n",
    "plt.xlabel('Count of passengers',  fontsize = 15)\n",
    "plt.ylabel('Class', fontsize = 15)\n",
    "plt.title('Passengers by Class', fontsize = 25)\n"
   ]
  },
  {
   "cell_type": "markdown",
   "metadata": {},
   "source": [
    "From the plot and calculations it is clear that most of the passengers belong to lower class(491), followed by upper class(216) and lastly middle class(184)."
   ]
  },
  {
   "cell_type": "markdown",
   "metadata": {},
   "source": [
    "<ul>\n",
    "<b> \n",
    "<li>Q. How much did passengers spend on fare? </li>\n",
    "<li>Q. Did passengers getting in at Queenstown pay less than those getting in at Southampton?</li>\n",
    "<li>Q. What was the fare distribution across the economic classes?</li>\n",
    "</b>\n",
    "</ul>"
   ]
  },
  {
   "cell_type": "markdown",
   "metadata": {},
   "source": [
    "Use 'describe' method and then plot it to observe charecteristics of 'Fare' colum "
   ]
  },
  {
   "cell_type": "code",
   "execution_count": 69,
   "metadata": {},
   "outputs": [
    {
     "name": "stdout",
     "output_type": "stream",
     "text": [
      "count    891.000000\n",
      "mean      32.204208\n",
      "std       49.693429\n",
      "min        0.000000\n",
      "25%        7.910400\n",
      "50%       14.454200\n",
      "75%       31.000000\n",
      "max      512.329200\n",
      "Name: Fare, dtype: float64\n"
     ]
    },
    {
     "data": {
      "text/plain": [
       "<matplotlib.text.Text at 0x14cd4c18>"
      ]
     },
     "execution_count": 69,
     "metadata": {},
     "output_type": "execute_result"
    },
    {
     "data": {
      "image/png": "[encoded data removed]",
      "text/plain": [
       "<matplotlib.figure.Figure at 0x151224a8>"
      ]
     },
     "metadata": {},
     "output_type": "display_data"
    }
   ],
   "source": [
    "print fd['Fare'].describe()\n",
    "\n",
    "fig = plt.figure()\n",
    "fd['Fare'].plot(kind = 'hist', bins = range(0,600,50), figsize=(17,5))\n",
    "plt.xlabel('Fares',  fontsize = 15)\n",
    "plt.ylabel('Count of fares', fontsize = 15)\n",
    "plt.title('Distribution of fares', fontsize = 25)\n"
   ]
  },
  {
   "cell_type": "markdown",
   "metadata": {},
   "source": [
    "From the plot, we can safely say that most of the fares are below 100, rather between 0 to 50."
   ]
  },
  {
   "cell_type": "markdown",
   "metadata": {},
   "source": [
    "Further divide ticket into smaller ranges"
   ]
  },
  {
   "cell_type": "code",
   "execution_count": 19,
   "metadata": {},
   "outputs": [
    {
     "name": "stdout",
     "output_type": "stream",
     "text": [
      "Fares range 0 to 512\n",
      "838  i.e. majority of the tickets costed 100 or below\n",
      "53  tickets were priced above 100\n",
      "3  tickets costed more than 300, could be a typo\n",
      "15  tickets cost 0, seems weird, but possible if the tickets were won in raffle or something similar\n"
     ]
    }
   ],
   "source": [
    "print \"Fares range 0 to 512\"\n",
    "# most of the fares are 100 or below\n",
    "print fd['Fare'][fd['Fare']<=100].count(), \" i.e. majority of the tickets costed 100 or below\"\n",
    "print fd['Fare'][fd['Fare']>100].count(), \" tickets were priced above 100\"\n",
    "print fd['Fare'][fd['Fare']>300].count(),\" tickets costed more than 300, could be a typo\"\n",
    "print fd['Fare'][fd['Fare']==0].count(),\" tickets cost 0, seems weird, but possible if the tickets were won in raffle or something similar\""
   ]
  },
  {
   "cell_type": "markdown",
   "metadata": {},
   "source": [
    "Observe the fare range for lower class"
   ]
  },
  {
   "cell_type": "code",
   "execution_count": 70,
   "metadata": {},
   "outputs": [
    {
     "name": "stdout",
     "output_type": "stream",
     "text": [
      "count    491.000000\n",
      "mean      13.675550\n",
      "std       11.778142\n",
      "min        0.000000\n",
      "25%        7.750000\n",
      "50%        8.050000\n",
      "75%       15.500000\n",
      "max       69.550000\n",
      "Name: Fare, dtype: float64\n",
      "\n",
      " Fares in lower class range between 0 and 69.55 and most of them are between 0 and 10\n"
     ]
    },
    {
     "data": {
      "image/png": "[encoded data removed]",
      "text/plain": [
       "<matplotlib.figure.Figure at 0x149eb390>"
      ]
     },
     "metadata": {},
     "output_type": "display_data"
    }
   ],
   "source": [
    "f_lower = fd[fd.Pclass == 'Lower']\n",
    "print f_lower.Fare.describe()\n",
    "\n",
    "fig = plt.figure()\n",
    "f_lower['Fare'].plot(kind = 'hist', figsize = (15,4), bins=range(0, 70, 10),  title = 'Lower class fares')\n",
    "plt.xlabel('Fares',  fontsize = 15)\n",
    "plt.ylabel('Count of fares', fontsize = 15)\n",
    "plt.title('Distribution of lower class fares', fontsize = 25)\n",
    "\n",
    "\n",
    "print \"\\n Fares in lower class range between 0 and 69.55 and most of them are between 0 and 10\"\n",
    "\n",
    "\n",
    "# fig, ax = plt.subplots(1,3)\n",
    "# f_lower['Fare'].plot(kind = 'hist', figsize = (20,4), ax = ax[0], title = 'Lower class fares')\n",
    "# f_middle['Fare'].plot(kind = 'hist', figsize = (20,4), ax = ax[1], title = 'Middle class fares')\n",
    "# f_upper['Fare'].plot(kind = 'hist', figsize = (20,4), ax = ax[2], title = 'Upper class fares')\n"
   ]
  },
  {
   "cell_type": "markdown",
   "metadata": {},
   "source": [
    "From the plot for fares of lower class we can see that majority of the tickets are below 40 and a maximum of those lie between 0 to 10."
   ]
  },
  {
   "cell_type": "markdown",
   "metadata": {},
   "source": [
    "Observe the fare range for middle class"
   ]
  },
  {
   "cell_type": "code",
   "execution_count": 71,
   "metadata": {},
   "outputs": [
    {
     "name": "stdout",
     "output_type": "stream",
     "text": [
      "count    184.000000\n",
      "mean      20.662183\n",
      "std       13.417399\n",
      "min        0.000000\n",
      "25%       13.000000\n",
      "50%       14.250000\n",
      "75%       26.000000\n",
      "max       73.500000\n",
      "Name: Fare, dtype: float64\n",
      " Fares in middle class lie between 0 and 73.5 and majority of them lie between 10 and 20\n"
     ]
    },
    {
     "data": {
      "text/plain": [
       "<matplotlib.text.Text at 0x10756978>"
      ]
     },
     "execution_count": 71,
     "metadata": {},
     "output_type": "execute_result"
    },
    {
     "data": {
      "image/png": "[encoded data removed]",
      "text/plain": [
       "<matplotlib.figure.Figure at 0x108c2f60>"
      ]
     },
     "metadata": {},
     "output_type": "display_data"
    }
   ],
   "source": [
    "f_middle = fd[fd.Pclass == 'Middle']\n",
    "print f_middle.Fare.describe()\n",
    "print \" Fares in middle class lie between 0 and 73.5 and majority of them lie between 10 and 20\"\n",
    "\n",
    "fig = plt.figure()\n",
    "f_middle['Fare'].plot(kind = 'hist', figsize = (15,4), bins=range(0, 80, 10),title = 'Middle class fares')\n",
    "plt.xlabel('Fares',  fontsize = 15)\n",
    "plt.ylabel('Count of fares', fontsize = 15)\n",
    "plt.title('Distribution of middle class fares', fontsize = 25)\n"
   ]
  },
  {
   "cell_type": "markdown",
   "metadata": {},
   "source": [
    "From the plot, we can see that most of the tickets lie between the fare range 10 to 20."
   ]
  },
  {
   "cell_type": "markdown",
   "metadata": {},
   "source": [
    "Observe the fare range for Upper class"
   ]
  },
  {
   "cell_type": "code",
   "execution_count": 101,
   "metadata": {},
   "outputs": [
    {
     "name": "stdout",
     "output_type": "stream",
     "text": [
      "count    216.000000\n",
      "mean      84.154687\n",
      "std       78.380373\n",
      "min        0.000000\n",
      "25%       30.923950\n",
      "50%       60.287500\n",
      "75%       93.500000\n",
      "max      512.329200\n",
      "Name: Fare, dtype: float64\n",
      "Majority of the upper class fares surprisingly lie between 20 and 40, I expected them to be much higher\n"
     ]
    },
    {
     "data": {
      "text/plain": [
       "<matplotlib.text.Text at 0x193c9550>"
      ]
     },
     "execution_count": 101,
     "metadata": {},
     "output_type": "execute_result"
    },
    {
     "data": {
      "image/png": "[encoded data removed]",
      "text/plain": [
       "<matplotlib.figure.Figure at 0x149a2cf8>"
      ]
     },
     "metadata": {},
     "output_type": "display_data"
    }
   ],
   "source": [
    "f_upper = fd[fd.Pclass == 'Upper']\n",
    "print f_upper.Fare.describe()\n",
    "print \"Majority of the upper class fares surprisingly lie between 20 and 40, I expected them to be much higher\"\n",
    "fig, ax = plt.subplots(2,1)\n",
    "f_upper['Fare'].plot(kind = 'hist', figsize = (15,8), bins=range(0, 550, 10),  title = 'Distribution of all Upper class fares', ax= ax[0])\n",
    "f_upper['Fare'].plot(kind = 'hist', figsize = (15,8), bins=range(0, 200, 10),  title = 'Distribution of Upper class fares below 200', ax = ax[1])\n",
    "fig.text(0.5,0.04,'Fares', ha='center',fontsize = 15)\n",
    "fig.text(0.04,0.5,'Count of Fares', va='center',fontsize = 15,rotation = 'vertical')\n"
   ]
  },
  {
   "cell_type": "markdown",
   "metadata": {},
   "source": [
    "First plot looks at the ticket fares across the entire range and we can clearly see that most of tickets for upper class are priced below 200. From the second plot it can be inferred that majority of the tickets are in the fare range 20 to 40."
   ]
  },
  {
   "cell_type": "markdown",
   "metadata": {},
   "source": [
    "Observe fares paid by passengers across economic classes at different ports"
   ]
  },
  {
   "cell_type": "code",
   "execution_count": 102,
   "metadata": {},
   "outputs": [
    {
     "name": "stdout",
     "output_type": "stream",
     "text": [
      "Pclass  Embarked   \n",
      "Lower   Cherbourg       11.214083\n",
      "        Queenstown      11.183393\n",
      "        Southampton     14.644083\n",
      "Middle  Cherbourg       25.358335\n",
      "        Queenstown      12.350000\n",
      "        Southampton     20.327439\n",
      "Upper   Cherbourg      104.718529\n",
      "        Queenstown      90.000000\n",
      "        Southampton     70.514244\n",
      "Name: Fare, dtype: float64\n",
      "\n",
      "Fares seem to be all over the place with no logic whatsoever (assuming furthest port should charge maximum)\n",
      "The question was - do passengers getting in at Queenstown pay lower than Southampton passengers?\n",
      "Yes, lower and middle class passengers from Queenstown do pay less than Southampton passengers for the same class\n",
      "The same is not true for Upper class, it may because of the outliers. Lets check: \n",
      "\n",
      "      Embarked      Fare\n",
      "258  Cherbourg  512.3292\n",
      "679  Cherbourg  512.3292\n",
      "737  Cherbourg  512.3292\n",
      "All the outliers are from Cherbourg, so its not because of outliers and the fares really are weird\n"
     ]
    }
   ],
   "source": [
    "print fd.groupby([\"Pclass\", \"Embarked\"]).mean()['Fare']\n",
    "\n",
    "print \"\\nFares seem to be all over the place with no logic whatsoever (assuming furthest port should charge maximum)\"\n",
    "print \"The question was - do passengers getting in at Queenstown pay lower than Southampton passengers?\"\n",
    "print \"Yes, lower and middle class passengers from Queenstown do pay less than Southampton passengers for the same class\"\n",
    "print \"The same is not true for Upper class, it may because of the outliers. Lets check: \\n\"\n",
    "print f_upper[f_upper.Fare > 300][['Embarked','Fare']]\n",
    "print \"All the outliers are from Cherbourg, so its not because of outliers and the fares really are weird\""
   ]
  },
  {
   "cell_type": "markdown",
   "metadata": {},
   "source": [
    "<b> Q. What was the gender ratio on the ship? What was the gender distribution by class? How many of each gender survived? <b>"
   ]
  },
  {
   "cell_type": "markdown",
   "metadata": {},
   "source": [
    "Division and Round function to see what % of population survived\n"
   ]
  },
  {
   "cell_type": "code",
   "execution_count": 103,
   "metadata": {
    "collapsed": true
   },
   "outputs": [],
   "source": [
    "def per_survivors(survivors, total):\n",
    "    return 100*round(survivors/total,2)"
   ]
  },
  {
   "cell_type": "markdown",
   "metadata": {},
   "source": [
    "Find gender ratio, division of gender across economic classes and finally survivors by gender "
   ]
  },
  {
   "cell_type": "code",
   "execution_count": 124,
   "metadata": {},
   "outputs": [
    {
     "name": "stdout",
     "output_type": "stream",
     "text": [
      "\n",
      "The female to male gender ratio on the ship is 0.54 \n",
      "\n",
      "Pclass  Sex   \n",
      "Lower   female    144\n",
      "        male      347\n",
      "Middle  female     76\n",
      "        male      108\n",
      "Upper   female     94\n",
      "        male      122\n",
      "Name: PassengerId, dtype: int64\n",
      "Upper class has relatively more females to males than the other classes \n",
      "\n",
      "Total Survivors were: 342 or 38.0% total passengers\n",
      "Male survivors: 109 or 19.0% males\n",
      "Female survivors: 233 or 74.0% females \n",
      "\n"
     ]
    },
    {
     "data": {
      "text/plain": [
       "<matplotlib.text.Text at 0x24db6fd0>"
      ]
     },
     "execution_count": 124,
     "metadata": {},
     "output_type": "execute_result"
    },
    {
     "data": {
      "image/png": "[encoded data removed]",
      "text/plain": [
       "<matplotlib.figure.Figure at 0x21bd5dd8>"
      ]
     },
     "metadata": {},
     "output_type": "display_data"
    },
    {
     "data": {
      "image/png": "[encoded data removed]",
      "text/plain": [
       "<matplotlib.figure.Figure at 0x24f25fd0>"
      ]
     },
     "metadata": {},
     "output_type": "display_data"
    },
    {
     "data": {
      "image/png": "[encoded data removed]",
      "text/plain": [
       "<matplotlib.figure.Figure at 0x25124828>"
      ]
     },
     "metadata": {},
     "output_type": "display_data"
    }
   ],
   "source": [
    "from __future__ import division\n",
    "\n",
    "g_sex = get_passengers('Sex') \n",
    "ts = get_alive('Sex')\n",
    "\n",
    "gender_ratio =  round(( g_sex.female/g_sex.male ),2)\n",
    "#There were a lot more men than women on board\n",
    "print '\\n','The female to male gender ratio on the ship is {}'.format(gender_ratio), '\\n'\n",
    "print fd.groupby([\"Pclass\",\"Sex\"]).count()['PassengerId']\n",
    "print \"Upper class has relatively more females to males than the other classes \\n\"\n",
    "\n",
    "total_passengers = fd.Sex.count()\n",
    "total_survivors = fd.Sex[fd.Survived == \"Yes\"].count()\n",
    "\n",
    "\n",
    "per_ts = per_survivors(total_survivors,total_passengers)\n",
    "per_m  = per_survivors(ts.male,g_sex.male)\n",
    "per_f  = per_survivors(ts.female,g_sex.female)\n",
    "\n",
    "print 'Total Survivors were: {} or {}% total passengers'.format(total_survivors, per_ts)\n",
    "print 'Male survivors: {} or {}% males'.format(ts.male,per_m )\n",
    "print 'Female survivors: {} or {}% females \\n'.format(ts.female, per_f)    \n",
    "\n",
    "\n",
    "# sns.factorplot(x = \"Sex\", hue = \"Sex\", data=fd, kind = 'count', palette = \"muted\")\n",
    "# plt.title(\"Passengers by gender\")\n",
    "fig = plt.figure()\n",
    "g_sex.plot(kind = 'barh', figsize =(7,3))\n",
    "plt.xlabel('Passengers',  fontsize = 15)\n",
    "plt.ylabel('Gender', fontsize = 15)\n",
    "plt.title('Passengers by Sex', fontsize = 20)\n",
    "\n",
    "sns.factorplot(x = \"Pclass\", hue = \"Sex\", data=fd, kind = 'count', palette = \"muted\")\n",
    "plt.xlabel('Class',  fontsize = 15)\n",
    "plt.ylabel('Count of Passengers', fontsize = 15)\n",
    "plt.title(\"Passengers by Class and Sex\", fontsize = 20)\n",
    "\n",
    "sns.factorplot(x = \"Sex\", hue = \"Survived\", data=fd, kind = 'count',palette = \"husl\")\n",
    "plt.title(\"Survivors by gender\",fontsize = 20)\n",
    "plt.xlabel('Gender',  fontsize = 15)\n",
    "plt.ylabel('Count of Passengers', fontsize = 15)\n"
   ]
  },
  {
   "cell_type": "markdown",
   "metadata": {},
   "source": [
    "Plot 1 shows that there were many more males than females. Plot 2 plots genders by class. Plot 3 shows that more females survived compared to males."
   ]
  },
  {
   "cell_type": "markdown",
   "metadata": {},
   "source": [
    "It is interesting to note that although there were more males than females on board, \n",
    "ultimately more females (larger %) survived the disaster compared to males. "
   ]
  },
  {
   "cell_type": "markdown",
   "metadata": {},
   "source": [
    "<b> Q. Of the survivors, how many were children (age 19 or younger)? </b>"
   ]
  },
  {
   "cell_type": "code",
   "execution_count": 26,
   "metadata": {},
   "outputs": [
    {
     "name": "stdout",
     "output_type": "stream",
     "text": [
      "There are 164 children on board Titanic\n",
      "79(48.17%) children surved the shipwreck\n"
     ]
    }
   ],
   "source": [
    "from __future__ import division\n",
    "\n",
    "teen   = fd.Age[fd.Age <= 19].count()\n",
    "s_teen  = fd.Age[fd.Age <= 19][fd.Survived == \"Yes\"].count()\n",
    "per_teen = round((100*s_teen/teen),2)\n",
    "\n",
    "print \"There are {} children on board Titanic\".format(teen)\n",
    "print \"{}({}%) children surved the shipwreck\".format(s_teen, per_teen) "
   ]
  },
  {
   "cell_type": "markdown",
   "metadata": {},
   "source": [
    "<b>Q. How many babies (age below 1) were there on the board and how many of them survived?"
   ]
  },
  {
   "cell_type": "code",
   "execution_count": 27,
   "metadata": {},
   "outputs": [
    {
     "name": "stdout",
     "output_type": "stream",
     "text": [
      "There are 7 babies on board Titanic\n",
      "7 babies surved the shipwreck\n"
     ]
    }
   ],
   "source": [
    "bob   = fd.Age[fd.Age < 1].count()\n",
    "bob2  = fd.Age[fd.Age < 1][fd.Survived == \"Yes\"].count()\n",
    "\n",
    "print \"There are {} babies on board Titanic\".format(bob)\n",
    "print \"{} babies surved the shipwreck\".format(bob2) #looks like all of the babies survived"
   ]
  },
  {
   "cell_type": "markdown",
   "metadata": {
    "collapsed": true
   },
   "source": [
    "<b> Q. Did class play a factor in deciding survival? </b>"
   ]
  },
  {
   "cell_type": "markdown",
   "metadata": {},
   "source": [
    "Find survivors by class using get_passengers and get_alive functions and plot survivors by class"
   ]
  },
  {
   "cell_type": "code",
   "execution_count": 126,
   "metadata": {},
   "outputs": [
    {
     "name": "stdout",
     "output_type": "stream",
     "text": [
      "Total by class \n",
      "Lower     491\n",
      "Upper     216\n",
      "Middle    184\n",
      "Name: Pclass, dtype: int64 \n",
      "\n",
      "Survivors by class \n",
      "Pclass\n",
      "Lower     119\n",
      "Middle     87\n",
      "Upper     136\n",
      "Name: Survived, dtype: int64\n"
     ]
    },
    {
     "data": {
      "text/plain": [
       "<matplotlib.text.Text at 0x23a5f908>"
      ]
     },
     "execution_count": 126,
     "metadata": {},
     "output_type": "execute_result"
    },
    {
     "data": {
      "text/plain": [
       "<matplotlib.figure.Figure at 0x24e7f588>"
      ]
     },
     "metadata": {},
     "output_type": "display_data"
    },
    {
     "data": {
      "image/png": "[encoded data removed]",
      "text/plain": [
       "<matplotlib.figure.Figure at 0x23f9e438>"
      ]
     },
     "metadata": {},
     "output_type": "display_data"
    }
   ],
   "source": [
    "g_class = get_passengers('Pclass')\n",
    "s_class = get_alive('Pclass')\n",
    "\n",
    "print 'Total by class','\\n', g_class, '\\n'\n",
    "print 'Survivors by class','\\n', s_class\n",
    "\n",
    "\n",
    "'''\n",
    "fig, ax = plt.subplots(1,2)\n",
    "group_by_class.plot(kind = 'bar', title = \"passengers_by_class\", ax = ax[0])\n",
    "survivors_by_class.plot(kind = 'bar', title = \"survivors_by_class\", ax= ax[1], color = 'teal')\n",
    "fig.show()\n",
    "'''\n",
    "fig = plt.figure()\n",
    "sns.factorplot(x = \"Pclass\", hue = \"Survived\", data=fd, kind = 'count', palette = \"husl\")\n",
    "plt.xlabel('Class',  fontsize = 15)\n",
    "plt.ylabel('Count of Passengers', fontsize = 15)\n",
    "plt.title('Passengers by Survival and Class', fontsize = 20)\n",
    "\n"
   ]
  },
  {
   "cell_type": "markdown",
   "metadata": {},
   "source": [
    "Plot 3 shows survivors vs dead across classes. More people died in lower class than any other class and relatively more upper class people survived compared to all other classes."
   ]
  },
  {
   "cell_type": "markdown",
   "metadata": {},
   "source": [
    "From the graph we can deduce that a higher percentage of Upper class followed by Middle class survived the disaster. Most passenger lives lost were from Lower class."
   ]
  },
  {
   "cell_type": "markdown",
   "metadata": {},
   "source": [
    "Check if there is a relation between gender, class and survival by plotting a graph of survivors by economic classes"
   ]
  },
  {
   "cell_type": "code",
   "execution_count": 127,
   "metadata": {},
   "outputs": [
    {
     "data": {
      "text/plain": [
       "<matplotlib.text.Text at 0x234d8080>"
      ]
     },
     "execution_count": 127,
     "metadata": {},
     "output_type": "execute_result"
    },
    {
     "data": {
      "text/plain": [
       "<matplotlib.figure.Figure at 0x23a5f240>"
      ]
     },
     "metadata": {},
     "output_type": "display_data"
    },
    {
     "data": {
      "image/png": "[encoded data removed]",
      "text/plain": [
       "<matplotlib.figure.Figure at 0x23c4cda0>"
      ]
     },
     "metadata": {},
     "output_type": "display_data"
    }
   ],
   "source": [
    "sur = fd[fd.Survived == \"Yes\"] \n",
    "fig = plt.figure()\n",
    "sns.factorplot(x = \"Pclass\", hue = \"Sex\", data=sur, kind = 'count', palette = \"husl\")\n",
    "plt.xlabel('Class',  fontsize = 15)\n",
    "plt.ylabel('Count of Passengers', fontsize = 15)\n",
    "plt.title('Passengers by Class, Gender and Survival', fontsize = 20)\n"
   ]
  },
  {
   "cell_type": "markdown",
   "metadata": {},
   "source": [
    "The above plot checks survivors by gender across classes. It makes it abundantly clear that more females survived than males across all the classes"
   ]
  },
  {
   "cell_type": "markdown",
   "metadata": {},
   "source": [
    "From the graph, it is pretty clear that there is a higher chance of survival if you were a female irrespective of the class."
   ]
  },
  {
   "cell_type": "markdown",
   "metadata": {
    "collapsed": true
   },
   "source": [
    "# Observations"
   ]
  },
  {
   "cell_type": "markdown",
   "metadata": {},
   "source": [
    "-  75% of the passengers with age listed were under the age of 38, and the mean age overall was 29.7\n",
    "-  Most of the passengers got in at Southampton. Majority of the tickets costed 100 or below. \n",
    "-  Most of the passengers belonged to Lower class. Lower class passengers' count is more than the other two combined and there      are more Upper class passengers than middle class passengers.\n",
    "-  38.3% of the passengers survived. A higher percentage of Upper class followed by Middle class survived the disaster. Most        passenger lives lost were from Lower class. Although there were more males than females on board, ultimately more females        (larger %) survived the disaster compared to males.\n"
   ]
  },
  {
   "cell_type": "markdown",
   "metadata": {},
   "source": [
    "# Limitations"
   ]
  },
  {
   "cell_type": "markdown",
   "metadata": {},
   "source": [
    "1. The data contains information on only 891 of the 2224 passengers. There is a possibility that this sample set is not an accurate representative of the population and therefore may result in biases based on the sample set like :\n",
    "    - according to this dataset most of the passengers got in at Southhampton\n",
    "    - most of the passengers were from lower class\n",
    "    - relatively more upper class passengers survived than any other classes\n",
    "2. There is no information as to how the tickets were sold and it seems weird that there is an overlap between the fare ranges paid by the lower class and the upper class. If we knew how the tickets are sold then we might be able to make better sense of the data."
   ]
  },
  {
   "cell_type": "markdown",
   "metadata": {},
   "source": [
    "# Conclusion"
   ]
  },
  {
   "cell_type": "markdown",
   "metadata": {},
   "source": [
    "Based on the observations, it seems like there was a greater chance of survivng the Titanic disaster if the passenger belonged to higher class. If the passenger were a female, then there was a higher chance of survival irrespective of the class."
   ]
  }
 ],
 "metadata": {
  "kernelspec": {
   "display_name": "Python 2",
   "language": "python",
   "name": "python2"
  },
  "language_info": {
   "codemirror_mode": {
    "name": "ipython",
    "version": 2
   },
   "file_extension": ".py",
   "mimetype": "text/x-python",
   "name": "python",
   "nbconvert_exporter": "python",
   "pygments_lexer": "ipython2",
   "version": "2.7.13"
  }
 },
 "nbformat": 4,
 "nbformat_minor": 2
}
